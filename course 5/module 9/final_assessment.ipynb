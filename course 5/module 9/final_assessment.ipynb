{
  "cells": [
    {
      "cell_type": "markdown",
      "metadata": {
        "id": "axl1t80q8_2G"
      },
      "source": [
        "# Deep Learning Project: Cat Feature Identification with CNN"
      ]
    },
    {
      "cell_type": "markdown",
      "metadata": {
        "id": "nYQAPlj38_2K"
      },
      "source": [
        "## 1. Main Objective"
      ]
    },
    {
      "cell_type": "markdown",
      "metadata": {
        "id": "PCcT6sjZ8_2M"
      },
      "source": [
        "In this section, describe the main objective of your analysis. Specify that you will be using a Convolutional Neural Network (CNN), a type of Deep Learning algorithm, to identify key features on cat images, such as eyes, mouth, and ears. Explain the benefits that your analysis brings to the business or stakeholders of this data. For example, this could be used in applications like augmented reality filters for pets, automated tagging of pet photos, or veterinary diagnostics."
      ]
    },
    {
      "cell_type": "markdown",
      "metadata": {
        "id": "bCh4ZDjy8_2N"
      },
      "source": [
        "## 2. Data Description"
      ]
    },
    {
      "cell_type": "markdown",
      "metadata": {
        "id": "45LA_Nn58_2P"
      },
      "source": [
        "### About the Dataset\n",
        "\n",
        "**Context**\n",
        "\n",
        "The CAT dataset includes over 9,000 cat images. For each image, there are annotations of the head of cat with nine points, two for eyes, one for mouth, and six for ears.\n",
        "\n",
        "**Content**\n",
        "\n",
        "The annotation data are stored in a file with the name of the corresponding image plus .\"cat\" at the end. There is one annotation file for each cat image. For each annotation file, the annotation data are stored in the following sequence:\n",
        "\n",
        "Number of points (default is 9)\n",
        "Left Eye\n",
        "Right Eye\n",
        "Mouth\n",
        "Left Ear-1\n",
        "Left Ear-2\n",
        "Left Ear-3\n",
        "Right Ear-1\n",
        "Right Ear-2\n",
        "-Right Ear-3"
      ]
    },
    {
      "cell_type": "markdown",
      "metadata": {
        "id": "YZUbl2DT8_2Q"
      },
      "source": [
        "## 3. Data Exploration, Cleaning, and Feature Engineering"
      ]
    },
    {
      "cell_type": "code",
      "execution_count": 20,
      "metadata": {
        "id": "Jp_sWv328_2S"
      },
      "outputs": [],
      "source": [
        "import kagglehub\n",
        "from torch.utils.data import Dataset, DataLoader\n",
        "from pathlib import Path\n",
        "from PIL import Image\n",
        "import numpy as np\n",
        "import matplotlib.pyplot as plt\n",
        "import torch.nn as nn\n",
        "import torch\n",
        "import tqdm\n",
        "import seaborn as sns\n",
        "\n",
        "sns.set_theme()\n",
        "device = torch.device('cuda' if torch.cuda.is_available() else 'cpu')"
      ]
    },
    {
      "cell_type": "code",
      "execution_count": 21,
      "metadata": {
        "id": "oLMx7saX8_2U"
      },
      "outputs": [],
      "source": [
        "dataset_totel = 1000 if torch.cuda.is_available() else 100\n",
        "batch_size = 100 if torch.cuda.is_available() else 10\n",
        "train_epochs = 40 if torch.cuda.is_available() else 2"
      ]
    },
    {
      "cell_type": "code",
      "execution_count": 22,
      "metadata": {
        "id": "wNRaM9qj8_2W"
      },
      "outputs": [],
      "source": [
        "class CatDataset(Dataset):\n",
        "    def __init__(self, train=True):\n",
        "        self.path = Path(kagglehub.dataset_download(\"crawford/cat-dataset\"))/'cats'\n",
        "        self.files = list(self.path.rglob(\"*.cat\"))\n",
        "        self.files.sort(key=lambda f: f.name)\n",
        "\n",
        "        total = len(self.files) if dataset_totel == -1 else dataset_totel\n",
        "        train_size = int(0.7*total)\n",
        "\n",
        "        if train:\n",
        "            self.files = self.files[0:train_size]\n",
        "        else:\n",
        "            self.files = self.files[train_size:total]\n",
        "\n",
        "    def __len__(self):\n",
        "        return len(self.files)\n",
        "\n",
        "    def __getitem__(self, index):\n",
        "        if isinstance(index, slice):\n",
        "            return [self[i] for i in range(*index.indices(len(self)))]\n",
        "\n",
        "        file = self.files[index]\n",
        "\n",
        "        # Parse keypoints\n",
        "        with open(file, 'r') as f:\n",
        "            points = list(map(int, f.read().strip().split(' ')))\n",
        "            assert points[0] == 9\n",
        "            points = np.array(points[1:])\n",
        "\n",
        "        # Parse image\n",
        "        image_file = file.parent / file.name[:-4]\n",
        "        image = Image.open(image_file)\n",
        "        original_size = image.size\n",
        "        image_resized = np.array(image.resize((224, 224)))\n",
        "        x_resized = torch.Tensor(image_resized) / 255\n",
        "        x_resized = x_resized.view((3, 224, 224))\n",
        "\n",
        "        # Scale keypoints\n",
        "        points = points.reshape(-1, 2)\n",
        "        points = (points * [1 / original_size[0], 1 / original_size[1]]).astype('float32')\n",
        "\n",
        "        return x_resized.to(device=device), torch.Tensor(points.flatten()).to(device=device)\n",
        "\n",
        "train_dataset = CatDataset(train=True)\n",
        "test_dataset = CatDataset(train=False)"
      ]
    },
    {
      "cell_type": "code",
      "execution_count": 23,
      "metadata": {
        "id": "K2PKnJGc8_2X"
      },
      "outputs": [
        {
          "data": {
            "image/png": "[encoded data removed]",
            "text/plain": [
              "<Figure size 1000x600 with 1 Axes>"
            ]
          },
          "metadata": {},
          "output_type": "display_data"
        }
      ],
      "source": [
        "all_keypoints = []\n",
        "for _, y in train_dataset:\n",
        "    all_keypoints.append(y.cpu().numpy())\n",
        "\n",
        "all_keypoints = np.concatenate(all_keypoints)\n",
        "\n",
        "plt.figure(figsize=(10, 6))\n",
        "sns.histplot(all_keypoints, bins=50, kde=True)\n",
        "plt.title('Distribution of Output Variable (Keypoint Coordinates)')\n",
        "plt.xlabel('Normalized Coordinate Value')\n",
        "plt.ylabel('Frequency')\n",
        "plt.show()"
      ]
    },
    {
      "cell_type": "code",
      "execution_count": null,
      "metadata": {
        "id": "ddjWVy5g8_2Y"
      },
      "outputs": [],
      "source": [
        "def display(data, model=None, title=None):\n",
        "    n = len(data)\n",
        "    if n == 0:\n",
        "        print(\"No data to display.\")\n",
        "        return\n",
        "\n",
        "    # When n=1, subplots returns a single Axes object, not an array.\n",
        "    # We wrap it in a list for consistent indexing.\n",
        "    fig, axes = plt.subplots(1, n, figsize=(n * 4, 5))\n",
        "    if n == 1:\n",
        "        axes = [axes]\n",
        "\n",
        "    if title:\n",
        "        fig.suptitle(title, fontsize=16)\n",
        "\n",
        "    for i, (x, y) in enumerate(data):\n",
        "        ax = axes[i]\n",
        "\n",
        "        # Convert tensor from (C, H, W) to (H, W, C) for plotting\n",
        "        image = x.view(224, 224, 3).cpu().numpy()\n",
        "        ax.imshow(image)\n",
        "\n",
        "        # Plot ground truth keypoints\n",
        "        true_points = y.view(-1, 2).cpu().numpy() * 224\n",
        "        ax.scatter(true_points[:, 0], true_points[:, 1], c='red', s=40, label='Ground Truth', marker='x')\n",
        "\n",
        "        ax.axis('off')\n",
        "\n",
        "        if model:\n",
        "            model.eval()\n",
        "            with torch.no_grad():\n",
        "                # Model expects a batch, so we add a dimension, and it should already be on the correct device\n",
        "                pred_y = model(x.unsqueeze(0))\n",
        "\n",
        "            # Plot predicted keypoints\n",
        "            pred_points = pred_y.view(-1, 2).cpu().numpy() * 224\n",
        "            ax.scatter(pred_points[:, 0], pred_points[:, 1], c='yellow', s=40, label='Prediction', marker='x')\n",
        "\n",
        "            # Calculate and display loss\n",
        "            loss = loss_fn(pred_y, y.unsqueeze(0)).item()\n",
        "            ax.set_title(f'Loss: {loss:.4f}')\n",
        "        else:\n",
        "            ax.set_title(f'Sample {i+1}')\n",
        "\n",
        "    # Create a single legend for the figure\n",
        "    if model and n > 0:\n",
        "        handles, labels = ax.get_legend_handles_labels()\n",
        "        fig.legend(handles, labels, loc='lower center', ncol=2, bbox_to_anchor=(0.5, 0))\n",
        "\n",
        "    plt.tight_layout(rect=[0, 0.05, 1, 0.95])\n",
        "    plt.show()"
      ]
    },
    {
      "cell_type": "code",
      "execution_count": null,
      "metadata": {
        "colab": {
          "base_uri": "https://localhost:8080/",
          "height": 366
        },
        "id": "0Ofx3MYY8_2Z",
        "outputId": "dd845c7e-2725-4c57-ee92-9aed9836926f"
      },
      "outputs": [],
      "source": [
        "display(train_dataset[-10:], title='Train - Samples')\n",
        "display(test_dataset[-10:], title='Test - Samples')"
      ]
    },
    {
      "cell_type": "code",
      "execution_count": null,
      "metadata": {
        "id": "3_FBGalb8_2b"
      },
      "outputs": [],
      "source": [
        "# Data Cleaning and Preprocessing\n",
        "# - Handle any missing data if necessary.\n",
        "# - Normalize image pixel values (e.g., scale to [0, 1]).\n",
        "# - Normalize keypoint coordinates.\n",
        "# - Resize images to a consistent size for the CNN."
      ]
    },
    {
      "cell_type": "code",
      "execution_count": null,
      "metadata": {
        "id": "adOIcKS88_2c"
      },
      "outputs": [],
      "source": [
        "training_loader = DataLoader(CatDataset(train=True), batch_size=batch_size, shuffle=True)\n",
        "testing_loader = DataLoader(CatDataset(train=False), batch_size=batch_size, shuffle=False)"
      ]
    },
    {
      "cell_type": "markdown",
      "metadata": {
        "id": "PfD15YB78_2c"
      },
      "source": [
        "## 4. Model Training"
      ]
    },
    {
      "cell_type": "markdown",
      "metadata": {
        "id": "uOtHSdIz8_2c"
      },
      "source": [
        "Here you will train at least three variations of your CNN model. For each variation, you should document the architecture, hyperparameters, and training process."
      ]
    },
    {
      "cell_type": "code",
      "execution_count": null,
      "metadata": {
        "id": "awdfu4Bo8_2c"
      },
      "outputs": [],
      "source": [
        "loss_fn = nn.MSELoss()\n",
        "\n",
        "\n",
        "\n",
        "def train(\n",
        "    model,\n",
        "    optimizer,\n",
        "    epochs=10\n",
        "):\n",
        "    history = {\n",
        "        'train': [],\n",
        "        'test': []\n",
        "    }\n",
        "\n",
        "    for epoch in range(epochs):\n",
        "        tq = tqdm.tqdm(enumerate(training_loader), f\"Epoch {epoch+1}\")\n",
        "\n",
        "        running_loss = 0\n",
        "\n",
        "        model.train(True)\n",
        "        for i, (X_train, y_train) in tq:\n",
        "            optimizer.zero_grad()\n",
        "\n",
        "            y_pred = model.forward(X_train)\n",
        "\n",
        "            loss = loss_fn(y_pred, y_train)\n",
        "            loss.backward()\n",
        "\n",
        "            running_loss += loss.item()\n",
        "\n",
        "            optimizer.step()\n",
        "\n",
        "        history['train'].append(running_loss/len(testing_loader))\n",
        "\n",
        "        running_loss = 0\n",
        "\n",
        "        model.eval()\n",
        "        with torch.no_grad():\n",
        "            for X_test, y_test in testing_loader:\n",
        "                y_pred = model(X_test)\n",
        "                loss = loss_fn(y_pred, y_test)\n",
        "                running_loss += loss.item()\n",
        "\n",
        "        history['test'].append(running_loss/len(testing_loader))\n",
        "\n",
        "    return history\n",
        "\n",
        "def plot_history(history, title='Model Training History'):\n",
        "    fig, ax = plt.subplots(figsize=(10, 6))\n",
        "\n",
        "    # Combine histories if passed as a list\n",
        "    if isinstance(history, list):\n",
        "        train_losses = [item for sublist in history for item in sublist['train']]\n",
        "        test_losses = [item for sublist in history for item in sublist['test']]\n",
        "    else:\n",
        "        train_losses = history['train']\n",
        "        test_losses = history['test']\n",
        "\n",
        "    epochs = range(1, len(train_losses) + 1)\n",
        "\n",
        "    ax.plot(epochs, train_losses, 'o-', label='Training Loss')\n",
        "    ax.plot(epochs, test_losses, 'o-', label='Validation Loss')\n",
        "\n",
        "    ax.set_title(title, fontsize=16)\n",
        "    ax.set_xlabel('Epochs', fontsize=12)\n",
        "    ax.set_ylabel('Loss (log scale)', fontsize=12)\n",
        "    ax.set_yscale('log')\n",
        "    ax.legend()\n",
        "    ax.grid(True)\n",
        "\n",
        "    plt.show()"
      ]
    },
    {
      "cell_type": "markdown",
      "metadata": {
        "id": "Dp1ly31L8_2d"
      },
      "source": [
        "### Model Variation 1: Baseline CNN"
      ]
    },
    {
      "cell_type": "code",
      "execution_count": null,
      "metadata": {
        "id": "vstvbzcW8_2e"
      },
      "outputs": [],
      "source": [
        "\n",
        "\n",
        "class BaselineCNN(nn.Module):\n",
        "    def __init__(self):\n",
        "        super().__init__()\n",
        "\n",
        "        self.sequential = nn.Sequential(\n",
        "            nn.Conv2d(3, 16, 3),\n",
        "            nn.MaxPool2d(4),\n",
        "            nn.ReLU(),\n",
        "            nn.Conv2d(16, 32, 3),\n",
        "            nn.MaxPool2d(4),\n",
        "            nn.ReLU(),\n",
        "            nn.Flatten(),\n",
        "            nn.Linear(5408, 100),\n",
        "            nn.ReLU(),\n",
        "            nn.Linear(100, 18),\n",
        "        )\n",
        "\n",
        "    def forward(self, X):\n",
        "        return self.sequential(X)\n",
        "baseline_model = BaselineCNN().to(device=device)\n",
        "baseline_optimizer = torch.optim.Adam(baseline_model.parameters())\n",
        "baseline_history = []"
      ]
    },
    {
      "cell_type": "code",
      "execution_count": null,
      "metadata": {
        "colab": {
          "base_uri": "https://localhost:8080/"
        },
        "id": "xnAKcIIU8_2e",
        "outputId": "3f4562c2-2f60-427b-872a-a316b387ed71"
      },
      "outputs": [],
      "source": [
        "baseline_history.append(train(\n",
        "    baseline_model,\n",
        "    optimizer = baseline_optimizer,\n",
        "    epochs=250\n",
        "))"
      ]
    },
    {
      "cell_type": "code",
      "execution_count": null,
      "metadata": {
        "colab": {
          "base_uri": "https://localhost:8080/",
          "height": 575
        },
        "id": "RGDUX_FV8_2f",
        "outputId": "09d77b87-78f6-4032-f987-a2c05b415a27"
      },
      "outputs": [],
      "source": [
        "plot_history(baseline_history, title='Baseline CNN Training History')"
      ]
    },
    {
      "cell_type": "code",
      "execution_count": null,
      "metadata": {
        "colab": {
          "base_uri": "https://localhost:8080/",
          "height": 393
        },
        "id": "c7useWuR8_2g",
        "outputId": "7679c7e2-dda4-4086-c06f-8ce2fa65a538"
      },
      "outputs": [],
      "source": [
        "display(train_dataset[-10:], model=baseline_model, title='Train - Baseline CNN Predictions')\n",
        "display(test_dataset[-10:], model=baseline_model, title='Test - Baseline CNN Predictions')"
      ]
    },
    {
      "cell_type": "markdown",
      "metadata": {
        "id": "NMSFRkeZ8_2h"
      },
      "source": [
        "### Model Variation 2: Deeper CNN"
      ]
    },
    {
      "cell_type": "markdown",
      "metadata": {
        "id": "jvBrFNM_8_2i"
      },
      "source": [
        "For this variation, you could try making the model deeper by adding more convolutional layers or using a more complex architecture."
      ]
    },
    {
      "cell_type": "code",
      "execution_count": null,
      "metadata": {
        "id": "l2hCv-vr8_2i"
      },
      "outputs": [],
      "source": [
        "class DeeperCNN(nn.Module):\n",
        "    def __init__(self):\n",
        "        super().__init__()\n",
        "\n",
        "        # Define the convolutional layers\n",
        "        # Input image: 3 channels (RGB), 224x224\n",
        "        self.features = nn.Sequential(\n",
        "            # Block 1\n",
        "            nn.Conv2d(3, 32, kernel_size=3, padding=1), # Output: 32x224x224\n",
        "            nn.ReLU(),\n",
        "            nn.BatchNorm2d(32),\n",
        "            nn.Conv2d(32, 32, kernel_size=3, padding=1), # Output: 32x224x224\n",
        "            nn.ReLU(),\n",
        "            nn.BatchNorm2d(32),\n",
        "            nn.MaxPool2d(2), # Output: 32x112x112\n",
        "            nn.Dropout2d(0.2), # Dropout after pooling\n",
        "\n",
        "            # Block 2\n",
        "            nn.Conv2d(32, 64, kernel_size=3, padding=1), # Output: 64x112x112\n",
        "            nn.ReLU(),\n",
        "            nn.BatchNorm2d(64),\n",
        "            nn.Conv2d(64, 64, kernel_size=3, padding=1), # Output: 64x112x112\n",
        "            nn.ReLU(),\n",
        "            nn.BatchNorm2d(64),\n",
        "            nn.MaxPool2d(2), # Output: 64x56x56\n",
        "            nn.Dropout2d(0.2),\n",
        "\n",
        "            # Block 3\n",
        "            nn.Conv2d(64, 128, kernel_size=3, padding=1), # Output: 128x56x56\n",
        "            nn.ReLU(),\n",
        "            nn.BatchNorm2d(128),\n",
        "            nn.Conv2d(128, 128, kernel_size=3, padding=1), # Output: 128x56x56\n",
        "            nn.ReLU(),\n",
        "            nn.BatchNorm2d(128),\n",
        "            nn.MaxPool2d(2), # Output: 128x28x28\n",
        "            nn.Dropout2d(0.2),\n",
        "\n",
        "            # Block 4\n",
        "            nn.Conv2d(128, 256, kernel_size=3, padding=1), # Output: 256x28x28\n",
        "            nn.ReLU(),\n",
        "            nn.BatchNorm2d(256),\n",
        "            nn.Conv2d(256, 256, kernel_size=3, padding=1), # Output: 256x28x28\n",
        "            nn.ReLU(),\n",
        "            nn.BatchNorm2d(256),\n",
        "            nn.MaxPool2d(2), # Output: 256x14x14\n",
        "            nn.Dropout2d(0.2),\n",
        "\n",
        "            # Block 5\n",
        "            nn.Conv2d(256, 512, kernel_size=3, padding=1), # Output: 512x14x14\n",
        "            nn.ReLU(),\n",
        "            nn.BatchNorm2d(512),\n",
        "            nn.Conv2d(512, 512, kernel_size=3, padding=1), # Output: 512x14x14\n",
        "            nn.ReLU(),\n",
        "            nn.BatchNorm2d(512),\n",
        "            nn.MaxPool2d(2), # Output: 512x7x7\n",
        "            nn.Dropout2d(0.2)\n",
        "        )\n",
        "\n",
        "        # Calculate the flattened size after all convolutional and pooling layers\n",
        "        # For a 224x224 input with 5 MaxPool2d(2) layers, the spatial dimension\n",
        "        # becomes 224 / (2^5) = 224 / 32 = 7.\n",
        "        # The last convolutional layer has 512 channels.\n",
        "        self.flattened_size = 512 * 7 * 7 # 25088\n",
        "\n",
        "        # Define the fully connected layers (classifier/head)\n",
        "        self.classifier = nn.Sequential(\n",
        "            nn.Flatten(), # Flatten the 3D tensor into a 1D vector\n",
        "            nn.Linear(self.flattened_size, 1024), # First fully connected layer\n",
        "            nn.ReLU(),\n",
        "            nn.Dropout(0.5), # Regular dropout for fully connected layers\n",
        "            nn.Linear(1024, 512), # Second fully connected layer\n",
        "            nn.ReLU(),\n",
        "            nn.Dropout(0.5),\n",
        "            nn.Linear(512, 18) # Output layer with 18 neurons\n",
        "        )\n",
        "\n",
        "    def forward(self, X):\n",
        "        X = self.features(X)\n",
        "        X = self.classifier(X)\n",
        "        return X\n",
        "deeper_model = DeeperCNN().to(device=device)\n",
        "deeper_optimizer = torch.optim.Adam(deeper_model.parameters())\n",
        "deeper_history = []"
      ]
    },
    {
      "cell_type": "code",
      "execution_count": null,
      "metadata": {
        "colab": {
          "base_uri": "https://localhost:8080/",
          "height": 488
        },
        "id": "QRlEcE-K8_2j",
        "outputId": "fda859c0-b233-4d6d-dbd0-da2ea56e8afd"
      },
      "outputs": [],
      "source": [
        "deeper_history.append(train(\n",
        "    deeper_model,\n",
        "    optimizer = deeper_optimizer,\n",
        "    epochs=120\n",
        "))"
      ]
    },
    {
      "cell_type": "code",
      "execution_count": null,
      "metadata": {
        "colab": {
          "base_uri": "https://localhost:8080/",
          "height": 575
        },
        "id": "9FhbloFF8_2j",
        "outputId": "5f3beed1-58b8-4eb3-bc13-643b4a47b5ab"
      },
      "outputs": [],
      "source": [
        "plot_history(deeper_history, title='Deeper CNN Training History')"
      ]
    },
    {
      "cell_type": "code",
      "execution_count": null,
      "metadata": {
        "colab": {
          "base_uri": "https://localhost:8080/",
          "height": 393
        },
        "id": "-tFYW5I98_2k",
        "outputId": "cc8b53cf-16a5-4ac8-c67a-73f608eab955"
      },
      "outputs": [],
      "source": [
        "display(train_dataset[-10:], model=deeper_model, title='Train - Deeper CNN Predictions')\n",
        "display(test_dataset[-10:], model=deeper_model, title='Test - Deeper CNN Predictions')"
      ]
    },
    {
      "cell_type": "markdown",
      "metadata": {
        "id": "agtFSKUC8_2k"
      },
      "source": [
        "### Model Variation 3: CNN with Autoencoders"
      ]
    },
    {
      "cell_type": "markdown",
      "metadata": {
        "id": "bAGygCJA8_2l"
      },
      "source": [
        "First we train a autoencoder so we can use the encoder portion to represent the data in lower dimension to train the regressor on"
      ]
    },
    {
      "cell_type": "code",
      "execution_count": null,
      "metadata": {
        "id": "tj7Ia7Is8_2l"
      },
      "outputs": [],
      "source": [
        "import torch\n",
        "import torch.nn as nn\n",
        "\n",
        "# Define the Encoder\n",
        "class Encoder(nn.Module):\n",
        "    def __init__(self, latent_dim=1000):\n",
        "        super(Encoder, self).__init__()\n",
        "        # Input image: 3 channels (RGB), 224x224\n",
        "        self.conv1 = nn.Conv2d(3, 64, kernel_size=4, stride=2, padding=1) # Output: 64x112x112\n",
        "        self.relu1 = nn.ReLU()\n",
        "        self.conv2 = nn.Conv2d(64, 128, kernel_size=4, stride=2, padding=1) # Output: 128x56x56\n",
        "        self.relu2 = nn.ReLU()\n",
        "        self.conv3 = nn.Conv2d(128, 256, kernel_size=4, stride=2, padding=1) # Output: 256x28x28\n",
        "        self.relu3 = nn.ReLU()\n",
        "        self.conv4 = nn.Conv2d(256, 512, kernel_size=4, stride=2, padding=1) # Output: 512x14x14\n",
        "        self.relu4 = nn.ReLU()\n",
        "        self.conv5 = nn.Conv2d(512, 1024, kernel_size=4, stride=2, padding=1) # Output: 1024x7x7\n",
        "        self.relu5 = nn.ReLU()\n",
        "\n",
        "        # Calculate the flattened size after convolutional layers\n",
        "        # For 224x224 input with stride 2 and padding 1 for 5 layers:\n",
        "        # 224 -> 112 -> 56 -> 28 -> 14 -> 7\n",
        "        # The number of channels for the last conv layer is 1024\n",
        "        self.flattened_size = 1024 * 7 * 7 # 50176\n",
        "\n",
        "        # Linear layer to project to the latent dimension\n",
        "        self.fc = nn.Linear(self.flattened_size, latent_dim)\n",
        "\n",
        "    def forward(self, x):\n",
        "        x = self.relu1(self.conv1(x))\n",
        "        x = self.relu2(self.conv2(x))\n",
        "        x = self.relu3(self.conv3(x))\n",
        "        x = self.relu4(self.conv4(x))\n",
        "        x = self.relu5(self.conv5(x))\n",
        "\n",
        "        # Flatten the output for the fully connected layer\n",
        "        x = x.view(x.size(0), -1) # Flatten while keeping batch size\n",
        "        x = self.fc(x)\n",
        "        return x\n",
        "\n",
        "# Define the Decoder\n",
        "class Decoder(nn.Module):\n",
        "    def __init__(self, latent_dim=1000):\n",
        "        super(Decoder, self).__init__()\n",
        "        self.latent_dim = latent_dim\n",
        "        self.initial_channels = 1024\n",
        "        self.initial_dim = 7 # Corresponds to 7x7 spatial dimension before transpose convs\n",
        "\n",
        "        # Linear layer to project from latent dimension back to the flattened convolutional output size\n",
        "        self.fc = nn.Linear(latent_dim, self.initial_channels * self.initial_dim * self.initial_dim)\n",
        "        self.relu_fc = nn.ReLU()\n",
        "\n",
        "        # Transpose convolutional layers to upsample the image\n",
        "        # Input: 1024x7x7\n",
        "        self.deconv1 = nn.ConvTranspose2d(self.initial_channels, 512, kernel_size=4, stride=2, padding=1) # Output: 512x14x14\n",
        "        self.relu1 = nn.ReLU()\n",
        "        self.deconv2 = nn.ConvTranspose2d(512, 256, kernel_size=4, stride=2, padding=1) # Output: 256x28x28\n",
        "        self.relu2 = nn.ReLU()\n",
        "        self.deconv3 = nn.ConvTranspose2d(256, 128, kernel_size=4, stride=2, padding=1) # Output: 128x56x56\n",
        "        self.relu3 = nn.ReLU()\n",
        "        self.deconv4 = nn.ConvTranspose2d(128, 64, kernel_size=4, stride=2, padding=1) # Output: 64x112x112\n",
        "        self.relu4 = nn.ReLU()\n",
        "        self.deconv5 = nn.ConvTranspose2d(64, 3, kernel_size=4, stride=2, padding=1) # Output: 3x224x224\n",
        "\n",
        "        # Sigmoid activation to ensure pixel values are between 0 and 1\n",
        "        self.sigmoid = nn.Sigmoid()\n",
        "\n",
        "    def forward(self, x):\n",
        "        x = self.relu_fc(self.fc(x))\n",
        "\n",
        "        # Reshape the output from the linear layer into a 3D tensor for transpose convolutions\n",
        "        x = x.view(x.size(0), self.initial_channels, self.initial_dim, self.initial_dim)\n",
        "\n",
        "        x = self.relu1(self.deconv1(x))\n",
        "        x = self.relu2(self.deconv2(x))\n",
        "        x = self.relu3(self.deconv3(x))\n",
        "        x = self.relu4(self.deconv4(x))\n",
        "        x = self.sigmoid(self.deconv5(x)) # Sigmoid for final image output (0-1 range)\n",
        "        return x\n",
        "\n",
        "# Define the Autoencoder\n",
        "class Autoencoder(nn.Module):\n",
        "    def __init__(self, latent_dim=1000):\n",
        "        super(Autoencoder, self).__init__()\n",
        "        self.encoder = Encoder(latent_dim)\n",
        "        self.decoder = Decoder(latent_dim)\n",
        "\n",
        "    def forward(self, x):\n",
        "        encoded = self.encoder(x)\n",
        "        decoded = self.decoder(encoded)\n",
        "        return decoded\n",
        "\n",
        "autoencoder = Autoencoder().to(device=device)\n",
        "autoencoder_optimizer = torch.optim.Adam(autoencoder.parameters(), lr=1e-4, weight_decay=1e-8)\n",
        "autoencoder_history = []"
      ]
    },
    {
      "cell_type": "code",
      "execution_count": null,
      "metadata": {
        "id": "bGsr686O8_2l"
      },
      "outputs": [],
      "source": [
        "def train_autoencoder(\n",
        "    model,\n",
        "    optimizer,\n",
        "    epochs=10\n",
        "):\n",
        "\n",
        "\n",
        "    history = {\n",
        "        'train': [],\n",
        "        'test': []\n",
        "    }\n",
        "\n",
        "    for epoch in range(epochs):\n",
        "        tq = tqdm.tqdm(enumerate(training_loader), f\"Epoch {epoch+1}\")\n",
        "\n",
        "        running_loss = 0\n",
        "\n",
        "        model.train(True)\n",
        "        for i, (X_train, _) in tq:\n",
        "            optimizer.zero_grad()\n",
        "\n",
        "            y_pred = model.forward(X_train)\n",
        "\n",
        "            loss = loss_fn(y_pred, X_train)\n",
        "            loss.backward()\n",
        "\n",
        "            running_loss += loss.item()\n",
        "\n",
        "            optimizer.step()\n",
        "\n",
        "        history['train'].append(running_loss/len(testing_loader))\n",
        "\n",
        "        running_loss = 0\n",
        "\n",
        "        model.eval()\n",
        "        with torch.no_grad():\n",
        "            for X_test, _ in testing_loader:\n",
        "                y_pred = model(X_test)\n",
        "                loss = loss_fn(y_pred, X_test)\n",
        "                running_loss += loss.item()\n",
        "\n",
        "        history['test'].append(running_loss/len(testing_loader))\n",
        "\n",
        "    return history"
      ]
    },
    {
      "cell_type": "code",
      "execution_count": null,
      "metadata": {
        "colab": {
          "base_uri": "https://localhost:8080/"
        },
        "id": "K5uwjbC78_2m",
        "outputId": "11267c78-15b2-4732-b6ff-a70c5be3e46d"
      },
      "outputs": [],
      "source": [
        "autoencoder_history.append(\n",
        "    train_autoencoder(\n",
        "        autoencoder,\n",
        "        optimizer=autoencoder_optimizer,\n",
        "        epochs=train_epochs\n",
        "    )\n",
        ")"
      ]
    },
    {
      "cell_type": "code",
      "execution_count": null,
      "metadata": {
        "colab": {
          "base_uri": "https://localhost:8080/",
          "height": 575
        },
        "id": "7US4Vec28_2m",
        "outputId": "8e318995-6181-4966-e884-303b7a4338cb"
      },
      "outputs": [],
      "source": [
        "plot_history(autoencoder_history, title='Autoencoder Training History')"
      ]
    },
    {
      "cell_type": "code",
      "execution_count": null,
      "metadata": {
        "id": "yw8MUIsQ8_2m"
      },
      "outputs": [],
      "source": [
        "class AutoencoderCNN(nn.Module):\n",
        "    def __init__(self, autoencoder: Autoencoder):\n",
        "        super().__init__()\n",
        "\n",
        "        for param in autoencoder.encoder.parameters():\n",
        "            param.requires_grad = False\n",
        "\n",
        "        self.sequential = nn.Sequential(\n",
        "            autoencoder.encoder,\n",
        "            nn.Linear(1000, 512),\n",
        "            nn.ReLU(),\n",
        "            nn.Dropout(0.5),\n",
        "            nn.Linear(512, 256),\n",
        "            nn.ReLU(),\n",
        "            nn.Dropout(0.5),\n",
        "            nn.Linear(256, 18),\n",
        "            nn.ReLU(),\n",
        "        )\n",
        "\n",
        "    def forward(self, x):\n",
        "        return self.sequential(x)\n",
        "\n",
        "autoencoder_model = AutoencoderCNN(autoencoder).to(device=device)\n",
        "autoencoder_model_optimizer = torch.optim.Adam(autoencoder_model.parameters(), lr=1e-4)\n",
        "autoencoder_model_history = []"
      ]
    },
    {
      "cell_type": "code",
      "execution_count": null,
      "metadata": {
        "colab": {
          "base_uri": "https://localhost:8080/"
        },
        "id": "wvBl-tKh8_2m",
        "outputId": "863a9e6a-288a-4d6f-b007-e45d5b8a338b"
      },
      "outputs": [],
      "source": [
        "autoencoder_model_history.append(\n",
        "    train(\n",
        "        autoencoder_model,\n",
        "        optimizer=autoencoder_model_optimizer,\n",
        "        epochs=train_epochs\n",
        "    ))"
      ]
    },
    {
      "cell_type": "code",
      "execution_count": null,
      "metadata": {
        "colab": {
          "base_uri": "https://localhost:8080/",
          "height": 575
        },
        "id": "JFtrnfYe8_2n",
        "outputId": "80dd4b15-8a3b-402b-9b04-4ca310c39e79"
      },
      "outputs": [],
      "source": [
        "plot_history(autoencoder_model_history, title='Autoencoder CNN Training History')"
      ]
    },
    {
      "cell_type": "code",
      "execution_count": null,
      "metadata": {
        "colab": {
          "base_uri": "https://localhost:8080/",
          "height": 393
        },
        "id": "balmrxpz8_2n",
        "outputId": "6b2eba45-59dc-46c7-bd02-3b322e6a230c"
      },
      "outputs": [],
      "source": [
        "display(train_dataset[-10:], model=autoencoder_model, title='Train - Autoencoder CNN Predictions')\n",
        "display(test_dataset[-10:], model=autoencoder_model, title='Test - Autoencoder CNN Predictions')"
      ]
    },
    {
      "cell_type": "markdown",
      "metadata": {
        "id": "GW3ihhJJ8_2o"
      },
      "source": [
        "## 5. Final Model Selection"
      ]
    },
    {
      "cell_type": "markdown",
      "metadata": {
        "id": "HY--zZ7U8_2o"
      },
      "source": [
        "In this section, compare the performance of the three model variations. Explain which model you recommend as the final model and why. Consider factors like accuracy, computational cost, and explainability."
      ]
    },
    {
      "cell_type": "markdown",
      "metadata": {
        "id": "TFjRRW-98_2o"
      },
      "source": [
        "## 6. Key Findings and Insights"
      ]
    },
    {
      "cell_type": "markdown",
      "metadata": {
        "id": "7SCuW96O8_2p"
      },
      "source": [
        "Summarize the key findings from your modeling exercise. What did you learn about the data and the effectiveness of CNNs for this task? Were there any surprising results? Visualize some of the best and worst predictions from your final model to illustrate its performance."
      ]
    },
    {
      "cell_type": "markdown",
      "metadata": {
        "id": "PtxJqoJ58_2p"
      },
      "source": [
        "## 7. Next Steps and Future Work"
      ]
    },
    {
      "cell_type": "markdown",
      "metadata": {
        "id": "rN-7kQyu8_2p"
      },
      "source": [
        "Suggest potential next steps for this project. This could include:\n",
        "- Collecting more data or more diverse data.\n",
        "- Trying different model architectures (e.g., transfer learning with a pre-trained model like VGG16 or ResNet).\n",
        "- Exploring different hyperparameter tuning techniques.\n",
        "- Discuss any potential flaws or limitations of your current model."
      ]
    }
  ],
  "metadata": {
    "accelerator": "GPU",
    "colab": {
      "gpuType": "T4",
      "provenance": []
    },
    "kernelspec": {
      "display_name": "Python 3",
      "name": "python3"
    },
    "language_info": {
      "codemirror_mode": {
        "name": "ipython",
        "version": 3
      },
      "file_extension": ".py",
      "mimetype": "text/x-python",
      "name": "python",
      "nbconvert_exporter": "python",
      "pygments_lexer": "ipython3",
      "version": "3.12.8"
    }
  },
  "nbformat": 4,
  "nbformat_minor": 0
}
